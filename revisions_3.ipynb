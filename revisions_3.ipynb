{
 "cells": [
  {
   "cell_type": "markdown",
   "metadata": {
    "collapsed": false
   },
   "source": [
    "# Révisions 3\n",
    "\n",
    "Aujourd'hui révisions sur tout ce qu'on a vu jusqu'à maintenant"
   ]
  },
  {
   "cell_type": "markdown",
   "metadata": {},
   "source": [
    "## Exercice 1\n",
    "\n",
    "Quel type de données est utilisé pour exécuter une instruction if/else en Python ?\n",
    "- Booléen\n",
    "- Entier\n",
    "- Nombre à virgule\n",
    "- Chaîne de caractères"
   ]
  },
  {
   "cell_type": "markdown",
   "metadata": {},
   "source": [
    "## Exercice 2\n",
    "\n",
    "Quelles propositions, parmi les suivantes, peuvent être utilisées pour vérifier des conditions multiples ?\n",
    "\n",
    "Attention, plusieurs réponses sont possibles.\n",
    "\n",
    "- `else`\n",
    "- `and`\n",
    "- `while`\n",
    "- `or`\n",
    "- `not`"
   ]
  },
  {
   "cell_type": "markdown",
   "metadata": {},
   "source": [
    "## Exercice 3\n",
    "\n",
    "`capitales = [\"Paris\", \"New York\", \"Londres\", Shanghai\"]`\n",
    "\n",
    "Quelle boucle permet d'afficher chaque élément de la liste ?"
   ]
  },
  {
   "cell_type": "code",
   "execution_count": null,
   "metadata": {},
   "outputs": [],
   "source": [
    "For ville in capitales:\n",
    "    print(ville)"
   ]
  },
  {
   "cell_type": "code",
   "execution_count": null,
   "metadata": {},
   "outputs": [],
   "source": [
    "for ville in capitales:\n",
    "    print(ville)"
   ]
  },
  {
   "cell_type": "code",
   "execution_count": null,
   "metadata": {},
   "outputs": [],
   "source": [
    "for ville in capitales\n",
    "    print(ville)"
   ]
  },
  {
   "cell_type": "code",
   "execution_count": null,
   "metadata": {},
   "outputs": [],
   "source": [
    "for ville in capitales:\n",
    "    print(capitales)"
   ]
  },
  {
   "cell_type": "markdown",
   "metadata": {},
   "source": [
    "## Exercice 4\n",
    "\n",
    "Écrire une saisie filtrée d’un entier dans l’intervalle 1 à 10, bornes comprises. Afficher la saisie"
   ]
  },
  {
   "cell_type": "code",
   "execution_count": null,
   "metadata": {},
   "outputs": [],
   "source": [
    "# L'exercice se passe ici\n",
    "\n",
    "\n",
    "\n",
    "\n",
    "\n",
    "\n",
    "\n"
   ]
  },
  {
   "cell_type": "markdown",
   "metadata": {},
   "source": [
    "## Exercice 5\n",
    "\n",
    "Utiliser l’instruction break pour interrompre une boucle for d’affichage des entiers de 1 à 10 compris, lorsque la variable de boucle vaut 5.\n",
    "\n",
    "Utiliser l’instruction continue pour modifier une boucle for d’affichage de tous entiers de 1 à 10 compris, sauf lorsque la variable de boucle vaut 5."
   ]
  },
  {
   "cell_type": "code",
   "execution_count": null,
   "metadata": {},
   "outputs": [],
   "source": [
    "# L'exercice se passe ici\n",
    "\n",
    "\n",
    "\n",
    "\n",
    "\n",
    "\n",
    "\n"
   ]
  },
  {
   "cell_type": "markdown",
   "metadata": {},
   "source": [
    "## Exercice 6\n",
    "Définir la liste : liste = [17, 38, 10, 25, 72], puis effectuez les actions suivantes :\n",
    "\n",
    "- afficher la liste\n",
    "- ajouter l’élément 12 à la liste et afficher la liste\n",
    "- afficher l’élément 17\n",
    "- enlevez l’élément 38 et affichez la liste\n",
    "- affichez le dernier élément en utilisant un indiçage négatif."
   ]
  },
  {
   "cell_type": "code",
   "execution_count": null,
   "metadata": {},
   "outputs": [],
   "source": [
    "# L'exercice se passe ici\n",
    "\n",
    "\n",
    "\n",
    "\n",
    "\n",
    "\n",
    "\n"
   ]
  }
 ],
 "metadata": {
  "kernelspec": {
   "display_name": "Python 3.9.13 64-bit (windows store)",
   "language": "python",
   "name": "python3"
  },
  "language_info": {
   "codemirror_mode": {
    "name": "ipython",
    "version": 3
   },
   "file_extension": ".py",
   "mimetype": "text/x-python",
   "name": "python",
   "nbconvert_exporter": "python",
   "pygments_lexer": "ipython3",
   "version": "3.9.13"
  },
  "vscode": {
   "interpreter": {
    "hash": "012e53cafc42775b55e20fdc3c734c876337afd77ae313eee57c56ab683cda60"
   }
  }
 },
 "nbformat": 4,
 "nbformat_minor": 4
}
