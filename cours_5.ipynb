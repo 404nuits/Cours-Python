{
 "cells": [
  {
   "cell_type": "markdown",
   "metadata": {
    "collapsed": false
   },
   "source": [
    "# Cours 5 \\- Les fonctions (et exercices)\n",
    "\n",
    "Les fonctions permettent de réutiliser un ensemble d'instructions répétables. Il faut la définir avec :\n",
    "- le mot-clé `def`\n",
    "- le nom de la fonctions\n",
    "- des parenthèses\n",
    "- deux points `:`"
   ]
  },
  {
   "cell_type": "code",
   "execution_count": null,
   "metadata": {},
   "outputs": [],
   "source": [
    "def maPremiereFonction():\n",
    "    print(\"Bonjour\")\n",
    "\n",
    "\n",
    "maPremiereFonction()\n",
    "maPremiereFonction()\n",
    "maPremiereFonction()"
   ]
  },
  {
   "cell_type": "markdown",
   "metadata": {},
   "source": [
    "## Valeur de retour\n",
    "\n",
    "Une fonction peut aussi avoir **valeur de retour**. C'est la valeur que l'on peut renvoyer en dehors de la fonction à l'aide du mot-clé `return`"
   ]
  },
  {
   "cell_type": "code",
   "execution_count": null,
   "metadata": {},
   "outputs": [],
   "source": [
    "def maDeuxiemeFonction():\n",
    "    return \"test\"\n",
    "\n",
    "resultat = maDeuxiemeFonction()\n",
    "\n",
    "print(resultat)"
   ]
  },
  {
   "cell_type": "markdown",
   "metadata": {},
   "source": [
    "## Paramètres\n",
    "\n",
    "Une fonction peut également avoir des paramètres (séparés par une virgule), ce sont des valeurs que l'on va rentrer en paramètre de la fonction et que l'on va pouvoir utiliser à l'intérieur"
   ]
  },
  {
   "cell_type": "code",
   "execution_count": null,
   "metadata": {},
   "outputs": [],
   "source": [
    "def addition(a, b):\n",
    "    return a + b\n",
    "\n",
    "somme = addition(1, 4)\n",
    "\n",
    "print(f\"La somme de 1 et 4 est : {somme}\")"
   ]
  },
  {
   "cell_type": "markdown",
   "metadata": {},
   "source": [
    "## Mots-clés\n",
    "\n",
    "Quelques mots-clés :\n",
    "- **Définir** une fonction : l'écrire\n",
    "- **Appeler** une fonction : l'exécuter\n",
    "- Une fonction **renvoie** une valeur : La valeur que la fonction donne comme résultat"
   ]
  },
  {
   "cell_type": "code",
   "execution_count": null,
   "metadata": {},
   "outputs": [],
   "source": [
    "# Début de la définition de la fonction\n",
    "def fonction(param1, param2):\n",
    "    resultat = param1 + param2\n",
    "    return resultat                 # <==== Valeur renvoyée\n",
    "# Fin de la définition d'une fonction\n",
    "\n",
    "\n",
    "somme = fonction(1, 5)              # <==== Appel de la fonction\n",
    "\n",
    "\n",
    "\n",
    "print(somme)"
   ]
  },
  {
   "cell_type": "markdown",
   "metadata": {},
   "source": [
    "# Exercices"
   ]
  },
  {
   "cell_type": "markdown",
   "metadata": {},
   "source": [
    "## Exercice 1\n",
    "\n",
    "- Ecrire une fonction `soustraction(nb1, nb2)` qui soustrait 2 nombres et renvoie le résultat\n",
    "- Appeler la fonction et afficher le résultat"
   ]
  },
  {
   "cell_type": "code",
   "execution_count": null,
   "metadata": {},
   "outputs": [],
   "source": [
    "# L'exercice se passe ici\n",
    "\n",
    "\n",
    "\n",
    "\n",
    "\n"
   ]
  },
  {
   "cell_type": "markdown",
   "metadata": {},
   "source": [
    "## Exercice 2\n",
    "\n",
    "Écrire une fonction `compterChar` ayant deux paramètres (une chaîne de caractères et un caractère) et qui renvoie la fréquence du caractère dans la chaine (0 s'il n'existe pas)"
   ]
  },
  {
   "cell_type": "code",
   "execution_count": null,
   "metadata": {},
   "outputs": [],
   "source": [
    "# L'exercice se passe ici\n",
    "\n",
    "\n",
    "\n",
    "\n",
    "\n",
    "\n"
   ]
  }
 ],
 "metadata": {
  "kernelspec": {
   "display_name": "Python 3.9.13 64-bit (windows store)",
   "language": "python",
   "name": "python3"
  },
  "language_info": {
   "codemirror_mode": {
    "name": "ipython",
    "version": 3
   },
   "file_extension": ".py",
   "mimetype": "text/x-python",
   "name": "python",
   "nbconvert_exporter": "python",
   "pygments_lexer": "ipython3",
   "version": "3.9.13"
  },
  "vscode": {
   "interpreter": {
    "hash": "012e53cafc42775b55e20fdc3c734c876337afd77ae313eee57c56ab683cda60"
   }
  }
 },
 "nbformat": 4,
 "nbformat_minor": 4
}
