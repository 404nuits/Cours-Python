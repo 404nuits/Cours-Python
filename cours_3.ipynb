{
 "cells": [
  {
   "cell_type": "markdown",
   "metadata": {
    "collapsed": false
   },
   "source": [
    "# Cours 3 \\- Les listes\n",
    "\n",
    "Le dernier type de nous allons voir est le type liste.\n",
    "\n",
    "Il permet de lister tout les types de valeurs en Python. On met des crochets \"[]\" pour délimiter les valeurs\n",
    "\n",
    "Par exemple :"
   ]
  },
  {
   "cell_type": "code",
   "execution_count": 2,
   "metadata": {
    "collapsed": false
   },
   "outputs": [],
   "source": [
    "langues = [\"Français\", \"Anglais\", \"Espagnol\", \"Coréen\", \"Italien\", \"Japonais\"]"
   ]
  },
  {
   "cell_type": "markdown",
   "metadata": {
    "collapsed": false
   },
   "source": [
    "## Accéder aux éléments\n",
    "\n",
    "On peut accéder individuellement à chaque élément de la liste à l'aide de ce qu'on appelle un **indice**, c'est son numéro d'apparition dans la liste, il commence par 0.\n",
    "\n",
    "Si l'on veut accéder au premier élément de la liste *langues*, on fait langues[0], ce qui nous affichera français."
   ]
  },
  {
   "cell_type": "code",
   "execution_count": 6,
   "metadata": {
    "collapsed": false
   },
   "outputs": [],
   "source": [
    "langues = [\"Français\", \"Anglais\", \"Espagnol\", \"Coréen\", \"Italien\", \"Japonais\"]\n",
    "ma_langue = langues[0]\n",
    "\n",
    "une_autre_langue = langues[1]\n",
    "\n",
    "print(ma_langue)\n",
    "print(une_autre_langue)"
   ]
  },
  {
   "cell_type": "markdown",
   "metadata": {},
   "source": [
    "### Exercice\n",
    "\n",
    "Affichez l'élément \"*Italien*\" de la liste"
   ]
  },
  {
   "cell_type": "code",
   "execution_count": null,
   "metadata": {},
   "outputs": [],
   "source": [
    "# L'exercice se passe ici\n",
    "\n",
    "langues = [\"Français\", \"Anglais\", \"Espagnol\", \"Coréen\", \"Italien\", \"Japonais\"]\n",
    "\n",
    "\n",
    "\n"
   ]
  },
  {
   "cell_type": "markdown",
   "metadata": {},
   "source": [
    "Il est aussi possible d'accéder aux éléments de la liste à l'envers, par exemple, si on veut le dernière élément (le Japonais), on peut faire langues[-1]"
   ]
  },
  {
   "cell_type": "code",
   "execution_count": null,
   "metadata": {},
   "outputs": [],
   "source": [
    "langues = [\"Français\", \"Anglais\", \"Espagnol\", \"Coréen\", \"Italien\", \"Japonais\"]\n",
    "\n",
    "print(langues[-1])"
   ]
  },
  {
   "cell_type": "markdown",
   "metadata": {},
   "source": [
    "### Exercice\n",
    "\n",
    "Affichez l'élément \"*Coréen*\" de la liste en y accédant par la fin "
   ]
  },
  {
   "cell_type": "code",
   "execution_count": null,
   "metadata": {},
   "outputs": [],
   "source": [
    "# L'exercice se passe ici\n",
    "\n",
    "langues = [\"Français\", \"Anglais\", \"Espagnol\", \"Coréen\", \"Italien\", \"Japonais\"]\n",
    "\n",
    "\n",
    "\n"
   ]
  },
  {
   "cell_type": "markdown",
   "metadata": {},
   "source": [
    "## Les chaînes de caractères (le retour)\n",
    "\n",
    "En fait, les chaînes de caractères sont en réalité des **listes de caractères**.\n",
    "On peut donc accéder aux caractères d'une chaîne avec leur indice"
   ]
  },
  {
   "cell_type": "code",
   "execution_count": null,
   "metadata": {},
   "outputs": [],
   "source": [
    "ma_chaine = \"bonjour\"\n",
    "print(ma_chaine[3])"
   ]
  },
  {
   "cell_type": "markdown",
   "metadata": {},
   "source": [
    "## Actions sur les listes\n",
    "\n",
    "Python propose certaines fonctions pour gérer les listes, comme par exemple :\n",
    "- append() : pour ajouter un élément à la fin de la liste\n",
    "- remove() : pour retirer un élément de la liste\n",
    "- len() : pour avoir le nombre d'éléments de la liste"
   ]
  },
  {
   "cell_type": "code",
   "execution_count": null,
   "metadata": {},
   "outputs": [],
   "source": [
    "# Exemple append\n",
    "\n",
    "langues = [\"Français\", \"Anglais\", \"Espagnol\", \"Coréen\", \"Italien\", \"Japonais\"]\n",
    "print(langues)\n",
    "\n",
    "langues.append(\"Allemand\")\n",
    "print(langues)"
   ]
  },
  {
   "cell_type": "code",
   "execution_count": null,
   "metadata": {},
   "outputs": [],
   "source": [
    "# Exemple remove\n",
    "langues = [\"Français\", \"Anglais\", \"Espagnol\", \"Coréen\", \"Italien\", \"Japonais\"]\n",
    "print(langues)\n",
    "\n",
    "langues.remove(\"Espagnol\")\n",
    "print(langues)"
   ]
  },
  {
   "cell_type": "markdown",
   "metadata": {},
   "source": [
    "⚠️ S'il y avait eu plusieurs fois \"Espagnol\" dans la liste, la méthode \"remove\" n'aura retiré que la première occurrence du mot \"Espagnol\""
   ]
  },
  {
   "cell_type": "code",
   "execution_count": null,
   "metadata": {},
   "outputs": [],
   "source": [
    "# Exemple len()\n",
    "\n",
    "langues = [\"Français\", \"Anglais\", \"Espagnol\", \"Coréen\", \"Italien\", \"Japonais\"]\n",
    "\n",
    "print(len(langues))"
   ]
  }
 ],
 "metadata": {
  "kernelspec": {
   "display_name": "Python 3.9.13 64-bit (windows store)",
   "language": "python",
   "name": "python3"
  },
  "language_info": {
   "codemirror_mode": {
    "name": "ipython",
    "version": 3
   },
   "file_extension": ".py",
   "mimetype": "text/x-python",
   "name": "python",
   "nbconvert_exporter": "python",
   "pygments_lexer": "ipython3",
   "version": "3.9.13"
  },
  "vscode": {
   "interpreter": {
    "hash": "012e53cafc42775b55e20fdc3c734c876337afd77ae313eee57c56ab683cda60"
   }
  }
 },
 "nbformat": 4,
 "nbformat_minor": 4
}
