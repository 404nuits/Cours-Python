{
 "cells": [
  {
   "cell_type": "markdown",
   "metadata": {
    "collapsed": false
   },
   "source": [
    "# Révisions 1\n",
    "\n",
    "Petit break des cours aujourd'hui nous allons faire des exercices pour réviser :\n",
    "- Les nombres\n",
    "- Les opérations\n",
    "- Les chaînes\n",
    "- Les fonctions **input** et **print**\n",
    "- Les listes"
   ]
  },
  {
   "cell_type": "code",
   "execution_count": null,
   "metadata": {},
   "outputs": [],
   "source": [
    "# Que fait le code suivant ?\n",
    "\n",
    "\n",
    "nom = input(\"Bonjour, comment tu t'appelles ? :\")\n",
    "\n",
    "print(f\"Tu t'appelles {nom}\")"
   ]
  },
  {
   "cell_type": "markdown",
   "metadata": {},
   "source": [
    "## Exercice 1\n",
    "\n",
    "Ecrire un programme qui :\n",
    "- Demande un nom à l'utilisateur\n",
    "- Demande son âge à l'utilisateur\n",
    "- Les affiche\n",
    "\n",
    "Exemple d'affichage :\n",
    "```\n",
    "Votre nom ? : Ewen\n",
    "Votre âge ? : 21\n",
    "Ewen : 21 ans\n",
    "```"
   ]
  },
  {
   "cell_type": "code",
   "execution_count": null,
   "metadata": {},
   "outputs": [],
   "source": [
    "# === L'exercice se passe ici ===\n",
    "\n",
    "\n",
    "\n",
    "# Demander son nom à l'utilisateur\n",
    "\n",
    "\n",
    "\n",
    "# Demander son âge à l'utilisateur\n",
    "\n",
    "\n",
    "\n",
    "# Afficher le résultat\n",
    "\n",
    "\n"
   ]
  },
  {
   "cell_type": "markdown",
   "metadata": {},
   "source": [
    "## Exercice 2\n",
    "\n",
    "Ecrire un programme qui :\n",
    "- Demande un nombre à l'utilisateur\n",
    "- Ajoute 2 à ce nombre\n",
    "- Affiche le résultat sous la forme suivante :\n",
    "\"... + 2 = ...\""
   ]
  },
  {
   "cell_type": "code",
   "execution_count": null,
   "metadata": {},
   "outputs": [],
   "source": [
    "# === L'exercice se passe ici ===\n",
    "\n",
    "\n",
    "\n",
    "# Demander un nombre à l'utilisateur\n",
    "\n",
    "\n",
    "\n",
    "# Faire + 2\n",
    "\n",
    "\n",
    "\n",
    "# Afficher le résultat\n",
    "\n",
    "\n"
   ]
  },
  {
   "cell_type": "markdown",
   "metadata": {},
   "source": [
    "## Exercice 3\n",
    "\n",
    "Ecrire un programme qui :\n",
    "- Demande un temps (en secondes) à l'utilisateur\n",
    "- Demande une distance (en mètres) à l'utilisateur\n",
    "- Calcule la vitesse (distance / temps)\n",
    "- Affiche la vitesse\n",
    "\n",
    "Exemple d'affichage :\n",
    "```\n",
    "Entrez le temps (en secondes) : 11.5\n",
    "Entrez la distance (en mètres) : 7\n",
    "Vitesse : 1.64 m/s\n",
    "```\n"
   ]
  },
  {
   "cell_type": "code",
   "execution_count": null,
   "metadata": {},
   "outputs": [],
   "source": [
    "# === L'exercice se passe ici ===\n",
    "\n",
    "\n",
    "\n",
    "# Demander le temps à l'utilisateur\n",
    "\n",
    "\n",
    "\n",
    "# Demander la distance à l'utilisateur\n",
    "\n",
    "\n",
    "\n",
    "# Calculer la vitesse\n",
    "\n",
    "\n",
    "\n",
    "# Afficher le résultat\n",
    "\n",
    "\n"
   ]
  },
  {
   "cell_type": "code",
   "execution_count": null,
   "metadata": {},
   "outputs": [],
   "source": [
    "# Que fait le code suivant ?\n",
    "\n",
    "ma_liste = [1,2,3,4,5]\n",
    "\n",
    "for nombre in ma_liste:\n",
    "    print(f\"Numéro = {nombre}\")\n",
    "    print(f\"Nombre + 2 = {nombre + 2}\")\n"
   ]
  },
  {
   "cell_type": "markdown",
   "metadata": {},
   "source": [
    "## Exercice 4\n",
    "\n",
    "Ecrire un programme qui affiche tous les caractères de la chaîne"
   ]
  },
  {
   "cell_type": "code",
   "execution_count": null,
   "metadata": {},
   "outputs": [],
   "source": [
    "# === L'exercice se passe ici ===\n",
    "\n",
    "chaine = \"Bonjour\"\n",
    "\n"
   ]
  },
  {
   "cell_type": "markdown",
   "metadata": {},
   "source": [
    "## Exercice 5\n",
    "\n",
    "Ecrire un programme qui affiche tous les éléments de la liste"
   ]
  },
  {
   "cell_type": "code",
   "execution_count": null,
   "metadata": {},
   "outputs": [],
   "source": [
    "# === L'exercice se passe ici ===\n",
    "\n",
    "chaine = [5,50,3,1,6]\n",
    "\n"
   ]
  },
  {
   "cell_type": "markdown",
   "metadata": {},
   "source": [
    "## Exercice bonus\n",
    "\n",
    "Ecrire un programme qui, à l'aide des listes fournies, affiche toutes les combinaisons possibles d'un jeu de cartes.\n",
    "\n",
    "Il doit afficher :\n",
    "\n",
    "```\n",
    "♠1\n",
    "♠2\n",
    "...\n",
    "♠Roi\n",
    "♣1\n",
    "♣2\n",
    "...\n",
    "```"
   ]
  },
  {
   "cell_type": "code",
   "execution_count": null,
   "metadata": {},
   "outputs": [],
   "source": [
    "couleurs = [\"♠\",\"♣\",\"♥\",\"♦\"]\n",
    "numeros = [\"1\",\"2\",\"3\",\"4\",\"5\",\"6\",\"7\",\"8\",\"9\",\"10\",\"Valet\",\"Dame\",\"Roi\"]\n",
    "\n",
    "\n",
    "# Faire une double boucle\n"
   ]
  }
 ],
 "metadata": {
  "kernelspec": {
   "display_name": "Python 3.9.13 64-bit (windows store)",
   "language": "python",
   "name": "python3"
  },
  "language_info": {
   "codemirror_mode": {
    "name": "ipython",
    "version": 3
   },
   "file_extension": ".py",
   "mimetype": "text/x-python",
   "name": "python",
   "nbconvert_exporter": "python",
   "pygments_lexer": "ipython3",
   "version": "3.9.13"
  },
  "vscode": {
   "interpreter": {
    "hash": "012e53cafc42775b55e20fdc3c734c876337afd77ae313eee57c56ab683cda60"
   }
  }
 },
 "nbformat": 4,
 "nbformat_minor": 4
}
