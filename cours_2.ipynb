{
 "cells": [
  {
   "cell_type": "markdown",
   "metadata": {
    "collapsed": false
   },
   "source": [
    "# Cours 2 \\- Les chaînes et booléens\n",
    "\n",
    "Dans ce cours, nous allons voir les éléments suivants :\n",
    "\n",
    "- Les chaînes de caractères\n",
    "- les booléens\n",
    "\n"
   ]
  },
  {
   "cell_type": "markdown",
   "metadata": {
    "collapsed": false
   },
   "source": [
    "## Les chaînes de caractères\n",
    "\n",
    "En Python, les chaînes de caractères sont du type 'str'"
   ]
  },
  {
   "cell_type": "code",
   "execution_count": 2,
   "metadata": {
    "collapsed": false
   },
   "outputs": [],
   "source": [
    "variable_nombre = 912\n",
    "variable_chaine = \"912\"\n",
    "\n",
    "print(type(variable_nombre))\n",
    "print(type(variable_chaine))"
   ]
  },
  {
   "cell_type": "markdown",
   "metadata": {
    "collapsed": false
   },
   "source": [
    "## Concaténation\n",
    "\n",
    "Il est possible de concaténer des chaînes entre elles"
   ]
  },
  {
   "cell_type": "code",
   "execution_count": 6,
   "metadata": {
    "collapsed": false
   },
   "outputs": [],
   "source": [
    "ma_variable = \"bonjour\" + \" ça va ?\"\n",
    "print(ma_variable)"
   ]
  },
  {
   "cell_type": "markdown",
   "metadata": {},
   "source": [
    "Il est aussi possible de concaténer des chaînes avec des variables contenant des chaînes, de plusieurs façons"
   ]
  },
  {
   "cell_type": "code",
   "execution_count": null,
   "metadata": {},
   "outputs": [],
   "source": [
    "# Méthode 1\n",
    "var_1 = \"bonjour\"\n",
    "var_2 = var_1 + \" ça va ?\"\n",
    "print(var_2)\n",
    "\n",
    "# Méthode 2\n",
    "prenom = \"Ewen\"\n",
    "var_3 = f\"Je m'appelle {prenom}\"\n",
    "print(var_3)"
   ]
  },
  {
   "cell_type": "markdown",
   "metadata": {},
   "source": [
    "### La fonction \"input()\"\n",
    "\n",
    "La fonction input permet de demander une valeur à l'utilisateur avec un message, que Python stockera dans une variable\n",
    "\n",
    "Exemple :"
   ]
  },
  {
   "cell_type": "code",
   "execution_count": null,
   "metadata": {},
   "outputs": [],
   "source": [
    "humeur = input(\"ça va bien ? : \")\n",
    "print(humeur)"
   ]
  },
  {
   "cell_type": "markdown",
   "metadata": {},
   "source": [
    "### Exercice\n",
    "\n",
    "1 - Demander son âge à l'utilisateur\n",
    "\n",
    "2 - Afficher son âge sous la forme \"Vous avez .. ans\"\n"
   ]
  },
  {
   "cell_type": "code",
   "execution_count": null,
   "metadata": {},
   "outputs": [],
   "source": [
    "# L'exercice se passe ici\n",
    "\n",
    "\n",
    "\n",
    "\n"
   ]
  },
  {
   "cell_type": "markdown",
   "metadata": {},
   "source": [
    "## Les booléens\n",
    "\n",
    "Les booléens sont un type en Python qui ne peut prendre que 2 valeurs :\n",
    "- Vrai : True\n",
    "- Faux : False\n",
    "\n",
    "Il sont très utiles pour déterminer si une action est réussie ou pas\n",
    "\n",
    "Exemple :"
   ]
  },
  {
   "cell_type": "code",
   "execution_count": null,
   "metadata": {},
   "outputs": [],
   "source": [
    "il_fait_beau = True\n",
    "\n",
    "print(il_fait_beau)\n",
    "print(type(il_fait_beau))"
   ]
  }
 ],
 "metadata": {
  "kernelspec": {
   "display_name": "Python 3.9.13 64-bit (windows store)",
   "language": "python",
   "name": "python3"
  },
  "language_info": {
   "codemirror_mode": {
    "name": "ipython",
    "version": 3
   },
   "file_extension": ".py",
   "mimetype": "text/x-python",
   "name": "python",
   "nbconvert_exporter": "python",
   "pygments_lexer": "ipython3",
   "version": "3.9.13"
  },
  "vscode": {
   "interpreter": {
    "hash": "012e53cafc42775b55e20fdc3c734c876337afd77ae313eee57c56ab683cda60"
   }
  }
 },
 "nbformat": 4,
 "nbformat_minor": 4
}
