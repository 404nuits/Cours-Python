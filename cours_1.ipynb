{
 "cells": [
  {
   "cell_type": "markdown",
   "metadata": {
    "collapsed": false
   },
   "source": [
    "# Cours 1 \\- Les bases du Python\n",
    "\n",
    "Dans ce cours, nous allons voir les éléments suivants :\n",
    "\n",
    "- Les commentaires\n",
    "- Les variables\n",
    "\n"
   ]
  },
  {
   "cell_type": "markdown",
   "metadata": {
    "collapsed": false
   },
   "source": [
    "## Les commentaires\n",
    "\n",
    "Dans un programme Python, il est possible de commenter son code, cela peut être utile pour expliquer ce que l'on fait par exemple. Le code peut être commenté comme ci-dessous :\n",
    "\n"
   ]
  },
  {
   "cell_type": "code",
   "execution_count": 2,
   "metadata": {
    "collapsed": false
   },
   "outputs": [],
   "source": [
    "# Bonjour je suis un commentaire\n",
    "\n",
    "\"\"\"\n",
    "Bonjour je suis également un commentaire\n",
    "Mais je peux prendre plusieurs lignes\n",
    "\"\"\""
   ]
  },
  {
   "cell_type": "markdown",
   "metadata": {
    "collapsed": false
   },
   "source": [
    "## Les variables\n",
    "\n",
    "En Python, on peut stocker nos informations \\(des nombres, des mots, des phrases...\\) dans ce que l'on appelle des variables. Les variables sont définies comme ci\\-dessous :\n"
   ]
  },
  {
   "cell_type": "code",
   "execution_count": 6,
   "metadata": {
    "collapsed": false
   },
   "outputs": [],
   "source": [
    "ma_1ère_variable = \"bonjour\"\n",
    "ma_2ème_variable = 2"
   ]
  },
  {
   "cell_type": "markdown",
   "metadata": {
    "collapsed": false
   },
   "source": [
    "A gauche du signe égal, on retrouve le nom de la variable. Il ne peut pas contenir d'espace ou uniquement des chiffres.\n",
    "\n",
    "Par exemple, \n",
    "\n",
    "```\n",
    "ma variable = \"test1\"\n",
    "111 = \"test2\"\n",
    "```\n",
    "\n",
    "ne fonctionne pas.\n"
   ]
  },
  {
   "cell_type": "markdown",
   "metadata": {
    "collapsed": false
   },
   "source": [
    "## Les fonctions\n",
    "\n",
    "En Python, il existe des fonctions, qui permettent de faire des choses à notre place, sans que l'on ait à l'écrire. On les reconnaît car leur nom est suivi de parenthèses.\n",
    "\n",
    "Exemple : la fonction `print(elem)` affiche le contenu de la variable `elem` à l'utilisateur\n",
    "\n"
   ]
  },
  {
   "cell_type": "code",
   "execution_count": 1,
   "metadata": {
    "collapsed": false
   },
   "outputs": [
    {
     "name": "stdout",
     "output_type": "stream",
     "text": [
      "Bonjour\n",
      "ça va ?\n"
     ]
    }
   ],
   "source": [
    "print(\"Bonjour\")\n",
    "\n",
    "\n",
    "une_variable = \"ça va ?\"\n",
    "print(ma_variable)"
   ]
  },
  {
   "cell_type": "markdown",
   "metadata": {
    "collapsed": false
   },
   "source": [
    "### Exercice\n",
    "\n",
    "Créé une variable \\`ma\\_variable\\` contenant le mot \"bonjour\" puis affiche\\-la avec la fonction \\`print\\`\n",
    "\n"
   ]
  },
  {
   "cell_type": "code",
   "execution_count": null,
   "metadata": {
    "collapsed": false
   },
   "outputs": [],
   "source": [
    "# L'exercice se fait ici\n",
    "\n",
    "\n",
    "\n",
    "\n"
   ]
  },
  {
   "cell_type": "markdown",
   "metadata": {
    "collapsed": false
   },
   "source": [
    "## Les types\n",
    "\n",
    "En Python, les variables peuvent contenir plusieurs types de données :\n",
    "\n",
    "- Un nombre entier : \n",
    "\t- `variable_entiere = 15`\n",
    "- Un nombre décimal : \n",
    "\t- `variable_decimale = 5.4`\n",
    "- Une phrase, appelée chaîne de caractères\n",
    "    - `variable_chaine = \"bonjour comment ça va ?\"`\n",
    "    - `variable_chaine_2 = 'bonjour ça va bien !'`\n",
    "- Un tableau d'éléments :\n",
    "\t- `variable_tableau = [1,3,5] `\n",
    "- Un booléen :\n",
    "\t- `variable_booleen = True`\n",
    "    - `variable_booleen_2 = False`\n"
   ]
  },
  {
   "cell_type": "markdown",
   "metadata": {
    "collapsed": false
   },
   "source": [
    "### Les nombres\n",
    "\n",
    "Les nombres sont présents dans Python sous 2 types. On peut déterminer quel type d'information est contenu dans une variable avec la fonction `type()`\n",
    "\n",
    "Par exemple :\n"
   ]
  },
  {
   "cell_type": "code",
   "execution_count": 2,
   "metadata": {
    "collapsed": false
   },
   "outputs": [
    {
     "name": "stdout",
     "output_type": "stream",
     "text": [
      "Type de 15 : \n",
      "<class 'int'>\n",
      "Type de 15.5 : \n",
      "<class 'float'>\n"
     ]
    }
   ],
   "source": [
    "print(\"Type de 15 : \")\n",
    "print(type(15))\n",
    "\n",
    "print(\"Type de 15.5 : \")\n",
    "print(type(15.5))"
   ]
  },
  {
   "cell_type": "markdown",
   "metadata": {
    "collapsed": false
   },
   "source": [
    "- **int** veut dire \"entier\". 15 est donc un nombre entier\n",
    "- **float** veut dire \"flottant\". 15.5 est un nombre flottant (à virgule), la virgule s'écrit avec un point '.' en Python.\n",
    "\n",
    "#### Opérations\n",
    "\n",
    "Des opérations mathématiques peuvent être effectuées sur les nombres.\n",
    "\n",
    "Ces opérations sont :\n",
    "- L'addition : `1 + 1`\n",
    "- La soustraction : `2 - 1`\n",
    "- La multiplication : `2 * 3`\n",
    "- La division : `6 / 2`\n",
    "\n",
    "Par exemple :\n"
   ]
  },
  {
   "cell_type": "code",
   "execution_count": 1,
   "metadata": {
    "collapsed": false
   },
   "outputs": [
    {
     "name": "stdout",
     "output_type": "stream",
     "text": [
      "10\n"
     ]
    }
   ],
   "source": [
    "mon_addition = 5 + 5\n",
    "\n",
    "print(mon_addition)"
   ]
  },
  {
   "cell_type": "markdown",
   "metadata": {
    "collapsed": false
   },
   "source": [
    "### Exercice\n",
    "\n",
    "Créer une variable contenant le résultat de 1 divisé par 2, puis affichez cette variable"
   ]
  },
  {
   "cell_type": "code",
   "execution_count": null,
   "metadata": {
    "collapsed": false
   },
   "outputs": [],
   "source": [
    "# L'exercice se fait ici\n",
    "\n",
    "\n",
    "\n"
   ]
  },
  {
   "cell_type": "markdown",
   "metadata": {
    "collapsed": false
   },
   "source": [
    "Pour les nombres, il existe certaines fonctions qui peuvent être utiles :\n",
    "- La fonction `max()` prend des nombres en entrée, et retourne le plus grand\n",
    "- La fonction `min()` prend des nombres en entrée, et retourne le plus petit\n",
    "\n",
    "Par exemple :"
   ]
  },
  {
   "cell_type": "code",
   "execution_count": null,
   "metadata": {},
   "outputs": [],
   "source": [
    "mon_max = max( 1, 5, 1.2, -3)\n",
    "# Cette fonction va retourner le plus grand nombre entre 1      5     1,2      et     -3\n",
    "print(mon_max)"
   ]
  },
  {
   "cell_type": "code",
   "execution_count": null,
   "metadata": {},
   "outputs": [],
   "source": [
    "mon_min = min( 2,-1)\n",
    "# Cette fonction va retourner le plus petit nombre entre 2 et -1\n",
    "print(mon_min)"
   ]
  },
  {
   "cell_type": "markdown",
   "metadata": {},
   "source": [
    "### Exercice\n",
    "\n",
    "Affiche le plus petit nombre entre 5, -1 et 0 à l'aide de la fonction `min()`"
   ]
  },
  {
   "cell_type": "code",
   "execution_count": null,
   "metadata": {},
   "outputs": [],
   "source": [
    "# L'exercice se fait ici\n",
    "\n",
    "\n",
    "\n"
   ]
  },
  {
   "cell_type": "markdown",
   "metadata": {},
   "source": [
    "Pour information, on peut aussi transformer une chaîne de caractère en nombre :\n",
    "- Pour transformer en entier : `int(\"4\")`\n",
    "- Pour transformer en décimal : `float(\"4.5\")`\n",
    "\n",
    "### Exercice\n",
    "\n",
    "Essaye de prédire les résultats des opérations suivantes, puis vérifie dans l'interpréteur :\n",
    "- `1+2`\n",
    "- `2*5`\n",
    "- `5/2`\n",
    "- `2*5+1`\n",
    "- `2*(5+1)`\n",
    "- `2*min(1,5)`"
   ]
  },
  {
   "cell_type": "code",
   "execution_count": null,
   "metadata": {},
   "outputs": [],
   "source": [
    "print(1+2)\n",
    "print(2*5)\n",
    "print(5/2)\n",
    "print(2*5+1)\n",
    "print(2*(5+1))\n",
    "print(2*min(1,5))"
   ]
  },
  {
   "cell_type": "markdown",
   "metadata": {},
   "source": [
    "# Bravo\n",
    "Le chapitre 1 est terminé ! Tu sais manipuler les nombres en Python comme un pro !"
   ]
  }
 ],
 "metadata": {
  "interpreter": {
   "hash": "31f2aee4e71d21fbe5cf8b01ff0e069b9275f58929596ceb00d14d90e3e16cd6"
  },
  "kernelspec": {
   "display_name": "Python 3.6.8 64-bit",
   "name": "python3"
  },
  "language_info": {
   "codemirror_mode": {
    "name": "ipython",
    "version": 3
   },
   "file_extension": ".py",
   "mimetype": "text/x-python",
   "name": "python",
   "nbconvert_exporter": "python",
   "pygments_lexer": "ipython3",
   "version": "3.6.8"
  }
 },
 "nbformat": 4,
 "nbformat_minor": 4
}
