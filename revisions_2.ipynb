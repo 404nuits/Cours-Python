{
 "cells": [
  {
   "cell_type": "markdown",
   "metadata": {
    "collapsed": false
   },
   "source": [
    "# Révisions 2\n",
    "\n",
    "Ajourd'hui c'est révisions sur :\n",
    "- Les conditions\n",
    "- Les boucles"
   ]
  },
  {
   "cell_type": "code",
   "execution_count": null,
   "metadata": {},
   "outputs": [],
   "source": [
    "# Que fait le code suivant ?\n",
    "\n",
    "humeur = input(\"ça va ?\")\n",
    "\n",
    "if humeur == \"oui\":\n",
    "    print(\"cool tu vas bien !\")\n",
    "elif humeur == \"non\":\n",
    "    print(\"pourquoi ça va pas ?\")\n",
    "else:\n",
    "    print(\"j'ai pas compris\")"
   ]
  },
  {
   "cell_type": "markdown",
   "metadata": {},
   "source": [
    "## Exercice 1\n",
    "\n",
    "Ecrire un programme qui demande à l'utilisateur un prix Hors Taxe et calcule le prix TTC\n",
    "\n",
    "Formule : `prixTTC = prixHT + (prixHT * 20 / 100)`"
   ]
  },
  {
   "cell_type": "code",
   "execution_count": null,
   "metadata": {},
   "outputs": [],
   "source": [
    "# === L'exercice se passe ici ===\n",
    "\n"
   ]
  },
  {
   "cell_type": "markdown",
   "metadata": {},
   "source": [
    "## Que fais le programme suivant ?"
   ]
  },
  {
   "cell_type": "code",
   "execution_count": null,
   "metadata": {},
   "outputs": [],
   "source": [
    "k = 0\n",
    "while k < 6:\n",
    "    print(k)\n",
    "    k += 2"
   ]
  },
  {
   "cell_type": "markdown",
   "metadata": {},
   "source": [
    "## Exercice 2\n",
    "\n",
    "Ecrire un programme qui demande à l'utilisateur, dans une boucle while, s'il va bien, jusqu'à ce qu'il entre 'non'"
   ]
  },
  {
   "cell_type": "code",
   "execution_count": null,
   "metadata": {},
   "outputs": [],
   "source": [
    "# === L'exercice se passe ici ===\n",
    "\n",
    "\n",
    "\n"
   ]
  },
  {
   "cell_type": "markdown",
   "metadata": {},
   "source": [
    "## Exercice 3\n",
    "\n",
    "Ecrire un programme qui demande à l'utilisateur un nombre, et affiche PAIR s'il est divisible par 2, ou IMPAIR sinon"
   ]
  },
  {
   "cell_type": "code",
   "execution_count": null,
   "metadata": {},
   "outputs": [],
   "source": [
    "# === L'exercice se passe ici ===\n",
    "\n",
    "\n",
    "\n",
    "\n"
   ]
  },
  {
   "cell_type": "markdown",
   "metadata": {},
   "source": [
    "## Exercice 4\n",
    "\n",
    "Ecrire un programme qui demande en boucle à l'utilisateur un prix HT, et calcule puis affiche le prix TTC, jusqu'à ce qu'il entre 'STOP'"
   ]
  },
  {
   "cell_type": "code",
   "execution_count": null,
   "metadata": {},
   "outputs": [],
   "source": [
    "# === L'exercice se passe ici ===\n",
    "\n",
    "\n",
    "\n"
   ]
  },
  {
   "cell_type": "markdown",
   "metadata": {},
   "source": [
    "## Exercice 5\n",
    "\n",
    "Ecrire un programme qui affiche chaque nombre de la liste jusqu'à tomber sur un nombre impair"
   ]
  },
  {
   "cell_type": "code",
   "execution_count": null,
   "metadata": {},
   "outputs": [],
   "source": [
    "# === L'exercice se passe ici ===\n",
    "\n",
    "liste = [2,4,6,8,10,11,12,14]\n",
    "\n",
    "i = 0\n",
    "\n",
    "element = liste[i]\n",
    "\n",
    "# Tant que element est pair\n",
    "\n"
   ]
  },
  {
   "cell_type": "markdown",
   "metadata": {},
   "source": [
    "## Exercice bonus\n",
    "\n",
    "Faire le jeu du juste prix"
   ]
  },
  {
   "cell_type": "code",
   "execution_count": null,
   "metadata": {},
   "outputs": [],
   "source": [
    "import random\n",
    "\n",
    "# Nombre aléatoire entre 1 et 100\n",
    "nombre_aleatoire = random.randint(0,100)\n",
    "\n",
    "\n",
    "choix_utilisateur = -1\n",
    "\n",
    "# Tant que le choix_utilisateur est différent du nombre\n",
    "\n",
    "    # Demander à l'utilisateur de choisir un nombre\n",
    "\n",
    "    # Si le choix_utilisateur == nombre_aleatoire, afficher \"bravo !!\"\n"
   ]
  },
  {
   "cell_type": "markdown",
   "metadata": {},
   "source": [
    "Modifier le programme pour qu'au bout de 10 essais, le programme s'arrête et affiche \"perdu !!\""
   ]
  }
 ],
 "metadata": {
  "kernelspec": {
   "display_name": "Python 3.9.13 64-bit (windows store)",
   "language": "python",
   "name": "python3"
  },
  "language_info": {
   "codemirror_mode": {
    "name": "ipython",
    "version": 3
   },
   "file_extension": ".py",
   "mimetype": "text/x-python",
   "name": "python",
   "nbconvert_exporter": "python",
   "pygments_lexer": "ipython3",
   "version": "3.9.13"
  },
  "vscode": {
   "interpreter": {
    "hash": "012e53cafc42775b55e20fdc3c734c876337afd77ae313eee57c56ab683cda60"
   }
  }
 },
 "nbformat": 4,
 "nbformat_minor": 4
}
