{
 "cells": [
  {
   "attachments": {},
   "cell_type": "markdown",
   "metadata": {},
   "source": [
    "# Pierre, feuille, ciseaux\n",
    "\n",
    "Ajourd'hui nous allons, pas à pas, essayer de créer un programme permettant de jouer à pierre feuille ciseaux."
   ]
  },
  {
   "attachments": {},
   "cell_type": "markdown",
   "metadata": {},
   "source": [
    "Pour réaliser le jeu, il faut plusieurs étapes :\n",
    "\n",
    "1. Prendre le choix du joueur en entrée\n",
    "2. Prendre le choix de l'ordinateur\n",
    "3. Comparer les choix\n",
    "4. Afficher le résultat (gagné / perdu / égalité)\n",
    "\n",
    "5. Bonus : S'il y a égalité, on recommence un tour "
   ]
  },
  {
   "attachments": {},
   "cell_type": "markdown",
   "metadata": {},
   "source": [
    "## Etape 1 : Prendre le choix du joueur en entrée"
   ]
  },
  {
   "cell_type": "code",
   "execution_count": null,
   "metadata": {},
   "outputs": [],
   "source": [
    "# Ecrire le code ici\n",
    "\n",
    "# Complète la ligne suivante :\n",
    "\n",
    "choix_joueur = \n",
    "\n",
    "print(\"Le choix du joueur est : \" + choix_joueur)"
   ]
  },
  {
   "attachments": {},
   "cell_type": "markdown",
   "metadata": {},
   "source": [
    "## Etape 2 : Prendre le choix de l'ordinateur\n",
    "\n",
    "En Python, il existe un module qui permet de faire un choix aléatoire parmi une liste de choix. Ce module s'appelle `random` et la fonction qui nous intéresse aujourd'hui est `random.choice()`\n",
    "\n",
    "Elle s'utilise de la manière suivante :\n",
    "\n",
    "```python\n",
    "actions_possibles = [\"choix_1\", \"choix_2\", \"choix_3\", \"choix_4\"]\n",
    "\n",
    "choix_ordinateur = random.choice(actions_possibles)\n",
    "\n",
    "print(\"Le choix de l'ordinateur est : \" + choix_ordinateur)\n",
    "```"
   ]
  },
  {
   "cell_type": "code",
   "execution_count": null,
   "metadata": {},
   "outputs": [],
   "source": [
    "import random\n",
    "\n",
    "# Ecrire le code ici\n",
    "\n",
    "# Complète les lignes suivantes :\n",
    "\n",
    "actions_possibles = [\"pierre\", ...]\n",
    "\n",
    "choix_ordinateur = \n",
    "\n",
    "print(\"Le choix de l'ordinateur est : \" + choix_ordinateur)"
   ]
  },
  {
   "attachments": {},
   "cell_type": "markdown",
   "metadata": {},
   "source": [
    "## Etape 3 & 4 : Comparer les choix et afficher le résultat\n",
    "\n",
    "C'est l'étape la plus laborieuse, il faut comparer toutes les options possibles :\n",
    "- Dans un premier temps, on peut comparer le choix utilisateur et ordinateur, s'ils sont pareils, alors il y a égalité\n",
    "- Sinon pour chaque options de l'utilisateur, on regarde le choix de l'ordinateur, il n'y a que deux options possibles pour l'utilisateur :\n",
    "    - Gagnant\n",
    "    - Perdant"
   ]
  },
  {
   "cell_type": "code",
   "execution_count": null,
   "metadata": {},
   "outputs": [],
   "source": [
    "import random\n",
    "\n",
    "actions_possibles = [\"pierre\", \"feuille\", \"ciseaux\"]\n",
    "choix_ordinateur = random.choice(actions_possibles)\n",
    "choix_utilisateur = input(\"Entrez votre choix\")\n",
    "\n",
    "# Compléter le code suivant :\n",
    "\n",
    "# Cas où choix_ordinateur == choix_utilisateur\n",
    "if ...:\n",
    "    print(\"Égalité !\")\n",
    "elif choix_utilisateur == \"pierre\":\n",
    "\n",
    "    if choix_ordinateur == ...:\n",
    "        print(\"Perdu !\")\n",
    "\n",
    "    elif choix_ordinateur == ...:\n",
    "        print(\"Gagné !\")\n",
    "\n",
    "elif choix_utilisateur == \"feuille\":\n",
    "    # Et on recommence...\n",
    "    ...\n",
    "    \n",
    "# Il ne manque pas un choix ?"
   ]
  },
  {
   "attachments": {},
   "cell_type": "markdown",
   "metadata": {},
   "source": [
    "## Etape 5 (Bonus) : Tant qu'il y a égalité, on recommence un tour\n",
    "\n",
    "Ah ! On dirait bien qu'il va falloir modifier notre code !\n",
    "Peux-tu faire en sorte que tant qu'il y ait égalité, on recommence ?\n",
    "\n",
    "On essaye sans aide au début et je te donne les indices petit à petit"
   ]
  },
  {
   "cell_type": "code",
   "execution_count": null,
   "metadata": {},
   "outputs": [],
   "source": [
    "# Ici !\n",
    "\n",
    "# Copie ton code fonctionnel de la question précédente, puis modifie-le"
   ]
  }
 ],
 "metadata": {
  "language_info": {
   "name": "python"
  },
  "orig_nbformat": 4
 },
 "nbformat": 4,
 "nbformat_minor": 2
}
